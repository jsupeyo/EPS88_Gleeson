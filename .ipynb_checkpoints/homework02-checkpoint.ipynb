{
 "cells": [
  {
   "cell_type": "markdown",
   "metadata": {},
   "source": [
    "# Homework 2 - Earth's geomagnetic polarity timescale and the Gamma distribution\n",
    "\n",
    "Earth’s magnetic field varies with time. The most dramatic aspect of this variation is that it reverses its polarity. The field structure in both the normal and reversed states is dipolar (like a bar magnetic), but the pole locations are switched. The timescale that it takes for the field to reverse is relatively short (a few thousand years) compared to the time that it is typically in a given polarity.\n",
    "\n",
    "<img src=\"./figures/normal_reversed.png\" width = 600>\n",
    "\n",
    "> Source: Earth’s Dynamic Systems\n",
    "(10th Edition) Hamblin, W. K. and Christiansen, E. H.\n",
    "\n",
    "\n",
    "The history of reversals is recorded by the oceanic crust as it forms at the ridge with both sides of the ridge record this pattern of reversals leading to symmetry about the ridge (this is one of the ways we calculate the age of the oceanic crust, something you plotted in homework 1). Both the marine magnetic anomalies and records of the magnetic field on land in sedimentary rocks and lava flows have led to the development of the geomagnetic polarity time scale (GPTS). \n",
    "\n",
    "<img src=\"./figures/GPTS.png\" width = 600>\n",
    "\n",
    "> Source: Gee and Kent (2007) \"Source of Oceanic Magnetic Anomalies and the Geomagnetic Polarity Timescale\"\n",
    "\n",
    "## Geomagnetic reversals and the Poisson distribution\n",
    "\n",
    "Geomagnetic reversals are often interpretted to behave like a Poisson process. Recall from class that a Poisson process meets the following criteria:\n",
    "\n",
    "- Events are independent of each other.\n",
    "- The average rate (events per time period) is constant.\n",
    "- Two events cannot occur at the same time.\n",
    "\n",
    "In class, we used a Poisson distribution to describe the chance of observing meteors associated with a meteor shower."
   ]
  },
  {
   "cell_type": "code",
   "execution_count": 102,
   "metadata": {},
   "outputs": [],
   "source": [
    "import matplotlib.pyplot as plt\n",
    "import pandas as pd\n",
    "import numpy as np\n",
    "import scipy as sp"
   ]
  },
  {
   "cell_type": "markdown",
   "metadata": {},
   "source": [
    "**Import the geomagnetic polarity time scale data for the past 40 million years as a pandas dataframe**\n",
    "\n",
    "The GPTS.csv file, located in the 'data' folder (if on the BerkeleyHub), has a start and end date for each polarity zone along with its polarity.\n",
    "\n",
    "(1 point)"
   ]
  },
  {
   "cell_type": "code",
   "execution_count": 103,
   "metadata": {},
   "outputs": [],
   "source": [
    "GPTS = pd.read_csv()  #'data/GPTS.csv')\n",
    "GPTS.head()"
   ]
  },
  {
   "cell_type": "markdown",
   "metadata": {},
   "source": [
    "Let's use ```plt.fill()``` to make a plot that looks like the geomagnetic polarity time scale that is shown above. To make such a plot, let's make a list of reversal times when the field switched from normal (1) to reverse (-1) and an accompanying time list that we can then plot:"
   ]
  },
  {
   "cell_type": "code",
   "execution_count": 3,
   "metadata": {},
   "outputs": [
    {
     "data": {
      "image/png": "[encoded data removed]",
      "text/plain": [
       "<Figure size 2000x200 with 1 Axes>"
      ]
     },
     "metadata": {},
     "output_type": "display_data"
    }
   ],
   "source": [
    "polarity_code = []\n",
    "time_list = []\n",
    "\n",
    "for i in GPTS.index:\n",
    "    if GPTS['Polarity'][i] == 'normal':\n",
    "        polarity_code.append(-1)\n",
    "        polarity_code.append(1)\n",
    "        time_list.append(GPTS['End_Myr'][i])\n",
    "        time_list.append(GPTS['End_Myr'][i])\n",
    "    if GPTS['Polarity'][i] == 'reverse':\n",
    "        polarity_code.append(1)\n",
    "        polarity_code.append(-1)\n",
    "        time_list.append(GPTS['End_Myr'][i])\n",
    "        time_list.append(GPTS['End_Myr'][i])\n",
    "        \n",
    "plt.figure(1,(20,2))\n",
    "plt.fill(time_list,polarity_code)\n",
    "plt.xlabel('Age, Myr')\n",
    "plt.ylabel('Polarity')\n",
    "plt.xlim(0,40)\n",
    "plt.ylim(-1,1)\n",
    "plt.title('Geomagnetic Polarity Time Scale')\n",
    "plt.show()"
   ]
  },
  {
   "cell_type": "markdown",
   "metadata": {},
   "source": [
    "**Calculate the average duration of a geomagnetic polarity zone.**\n",
    "\n",
    "To do this you can make a new column in the Dataframe for polarity zone duration where you subtract the start date from the end date.\n",
    "\n",
    "You can then use ```np.mean()``` to calculate the mean duration, declare a variable named `average_polarity_zone_duration` with the mean polarity duration.\n",
    "\n",
    "(4 points)"
   ]
  },
  {
   "cell_type": "code",
   "execution_count": 104,
   "metadata": {},
   "outputs": [],
   "source": [
    "GPTS['Length'] = \n",
    "GPTS.head()"
   ]
  },
  {
   "cell_type": "code",
   "execution_count": 1,
   "metadata": {},
   "outputs": [],
   "source": [
    "average_polarity_zone_duration = np.nanmean() # look up the difference with np.nanmean and np.mean\n",
    "average_polarity_zone_duration"
   ]
  },
  {
   "cell_type": "markdown",
   "metadata": {},
   "source": [
    "**How does the duration of the current normal polarity zone compare to the average duration of a polarity (i.e. time between reversals) over the past 40 million years?**\n",
    "\n",
    "(2 points)\n",
    "\n",
    "*write your answer here*\n"
   ]
  },
  {
   "cell_type": "markdown",
   "metadata": {},
   "source": [
    "**Plot a histogram of the polarity zone duration**\n",
    "\n",
    "This is an empirical distribution (i.e. it is the observed data). When you make the histogram, make sure that `density=True`\n",
    "\n",
    "(2 points)"
   ]
  },
  {
   "cell_type": "code",
   "execution_count": 2,
   "metadata": {},
   "outputs": [],
   "source": [
    "plt.hist()\n",
    "plt.xlabel('Polarity length (Myrs)')"
   ]
  },
  {
   "cell_type": "markdown",
   "metadata": {},
   "source": [
    "**What percentile is the polarity zone duration of the current polarity zone?**\n",
    "\n",
    "If a value is the smallest one (shortest duration), it will have a precentile of 0. If it is the largest one (longest duration), it will have a precentile of 100. The median is 50 percentile. If I have 124 values and the value I am calculating the percentile for is the 119th largest one, it has a percentile of 119/124 = 96th percentile.\n",
    "\n",
    "There are various ways to determine the percentile. In the worksheet I adapted this from they advised you to sort the data according to polarity zone duration. You can do this by applying the `.sort_values()` function to the Dataframe with the name of your duration column being the input parameter. Also include the parameter `inplace=True` to have it stay sorted. To determine what rank it has you can use the function `.reset_index(inplace=True)` on the dataframe and then find what rank it is which you can then use to calculate the percentile.\n",
    "\n",
    "However, I think that's not the most effiecient way to do this. What we really need to know is: how many different 'periods' of time are we dealing with (length of the total dataframe) and how many polarity zones have a duration less than the duration of the current polarity zone.\n",
    "\n",
    "Details on percentile can be found in this inferential thinking chapter:\n",
    "https://www.inferentialthinking.com/chapters/13/1/Percentiles.html\n",
    "\n",
    "*Note that the percentile function they refer to is np.percentile*\n",
    "\n",
    "Declare a variable named `percentile_current_zone` with your answer.\n",
    "\n",
    " (4 points)"
   ]
  },
  {
   "cell_type": "code",
   "execution_count": null,
   "metadata": {},
   "outputs": [],
   "source": []
  },
  {
   "cell_type": "code",
   "execution_count": 3,
   "metadata": {},
   "outputs": [],
   "source": [
    "percentile_current_zone = \n",
    "percentile_current_zone"
   ]
  },
  {
   "cell_type": "markdown",
   "metadata": {},
   "source": [
    "## Can we describe polarity zone duration with a theoretical distribution?"
   ]
  },
  {
   "cell_type": "markdown",
   "metadata": {},
   "source": [
    "### Gamma distribution:\n",
    "\n",
    "In class, we discussed the binomial distribution and the Poisson distribution. Another related distribution is the **Gamma distribution**. The **Gamma distribution** is the probability of a given waiting time between Poisson-distributed events (that is an event that randomly occurs but for which is there is an average time period between the events).\n",
    "\n",
    "The Gamma distribution gives the probability of a waiting time between Poisson distributed events. For those of you that will appreciate the theoretical basis for this function, here it is below. But you will get a better sense of it by putting it into action:\n",
    "\n",
    "#### Theoretical\n",
    "\n",
    "Consider the distribution function $D(x)$ of waiting times until the $h\\ th$ Poisson event given a Poisson distribution with a rate of change $\\lambda$,\n",
    "\n",
    "$$ D(x) = P (X \\le x) = 1 - P(X > x) = 1-\\sum_{k=0}^{h-1}\\frac{(\\lambda x)^{k}e^{-\\lambda x}}{k!} = 1-e^{-\\lambda x}\\sum_{k=0}^{h-1}\\frac{(\\lambda x)^{k}}{k!} = 1-\\frac{\\Gamma(h,x\\lambda) }{\\Gamma (h)}$$ \n",
    "\n",
    "where $\\Gamma (x) = (x-1)!$ is a complete gamma function and $\\Gamma (n,x) = (n-1)! e^{-x}\\sum_{k=0}^{n-1}\\frac{x^{k}}{k!}$ an incomplete gamma function. The corresponding probability function $P(x)$ of waiting times until the $h\\ th$ Poisson event is then obtained by differentiating  $D(x)$,\n",
    "\n",
    "$$ P(x) = D'(x) = \\frac{\\lambda (\\lambda x)^{h-1}}{(h-1)!}e^{-\\lambda x} $$\n",
    "\n",
    "Now let $\\alpha=h$ (not necessarily an integer) and define $\\theta=1/\\lambda$ to be the time between changes. Then the above equation can be written\n",
    "\n",
    "$$ P(x) = \\frac{x^{\\alpha-1}e^{-x/\\theta}}{\\Gamma (\\alpha) \\theta^{\\alpha}} $$\n",
    "\n",
    "which is the probability of a duration time $x$ between events.\n",
    "\n",
    "$\\theta$ is the expected time between reversals and we will follow McFadden (1984) and define $\\theta = \\mu / \\alpha$ where $\\mu$ is the average chron duration. A value for $\\alpha$ greater than one can be interpreted either as an artefact linked to some short intervals missing in the GPTS or to some short term memory within the dynamo that would inhibit a second reversal just after a first one has occurred. McFadden (1984) use a value for $\\alpha$ of 1.2.\n",
    "\n",
    "<img src=\"./figures/alpha_greater_one.png\" width = 600>\n",
    "\n",
    "> Source: McFadden (1984) \"Statistical Tools for the Analysis of Geomagnetic Reversal Sequence\""
   ]
  },
  {
   "cell_type": "code",
   "execution_count": 11,
   "metadata": {},
   "outputs": [],
   "source": [
    "from scipy.special import gamma\n",
    "def gamma_probability(x,mu,alpha):\n",
    "    \"\"\"\n",
    "    This function computes the probability waiting x time between poisson events (such as polarity change), \n",
    "    given theta the expected time between changes and alpha the shape parameter for the gamma distribution\n",
    "    \n",
    "    Parameters\n",
    "    ----------\n",
    "    x : the wait time use probability is being investigated\n",
    "    mu : average polarity zone duration\n",
    "    alpha : the shape parameter for the gamma distribution (1.2 for the GPTS according to McFadden (1984))\n",
    "    \n",
    "    Returns\n",
    "    -------\n",
    "    prob : probability of wait time x\n",
    "    \"\"\"\n",
    "    \n",
    "    theta = mu/alpha\n",
    "    prob = (x**(alpha - 1) * np.exp(-1*x/theta)) / (gamma(alpha)* theta**alpha)\n",
    "    \n",
    "    return prob"
   ]
  },
  {
   "cell_type": "markdown",
   "metadata": {},
   "source": [
    "**Plot the theoretical gamma probability in comparison to the actual distribution**\n",
    "\n",
    "Use the `gamma_probability()` function and calculate $P$ the probability of observing a polarity zone for each value in a range ```np.arange(0.0,3.0,0.1)```. Then plot the resulting curve on top of the polarity zone duration histogram. Make sure to label the plotted lines, put on a legend and label the axis. Following McFadden (1984), **use an alpha value of 1.2.**\n",
    "\n",
    " (3 point)"
   ]
  },
  {
   "cell_type": "code",
   "execution_count": 14,
   "metadata": {},
   "outputs": [],
   "source": [
    "gam = gamma_probability(x = , mu= , alpha= )"
   ]
  },
  {
   "cell_type": "code",
   "execution_count": 4,
   "metadata": {},
   "outputs": [],
   "source": [
    "\n",
    "plt.xlabel('Polarity zone duration (Myr)')"
   ]
  },
  {
   "cell_type": "markdown",
   "metadata": {},
   "source": [
    "#### Empirical and simulated\n",
    "\n",
    "The observed GPTS gives us one realization of an theorectical distribution. We can use the function `np.random.gamma` to simulate an empirical distribution."
   ]
  },
  {
   "cell_type": "code",
   "execution_count": 20,
   "metadata": {},
   "outputs": [
    {
     "name": "stdout",
     "output_type": "stream",
     "text": [
      "Help on built-in function gamma:\n",
      "\n",
      "gamma(...) method of numpy.random.mtrand.RandomState instance\n",
      "    gamma(shape, scale=1.0, size=None)\n",
      "    \n",
      "    Draw samples from a Gamma distribution.\n",
      "    \n",
      "    Samples are drawn from a Gamma distribution with specified parameters,\n",
      "    `shape` (sometimes designated \"k\") and `scale` (sometimes designated\n",
      "    \"theta\"), where both parameters are > 0.\n",
      "    \n",
      "    .. note::\n",
      "        New code should use the `~numpy.random.Generator.gamma`\n",
      "        method of a `~numpy.random.Generator` instance instead;\n",
      "        please see the :ref:`random-quick-start`.\n",
      "    \n",
      "    Parameters\n",
      "    ----------\n",
      "    shape : float or array_like of floats\n",
      "        The shape of the gamma distribution. Must be non-negative.\n",
      "    scale : float or array_like of floats, optional\n",
      "        The scale of the gamma distribution. Must be non-negative.\n",
      "        Default is equal to 1.\n",
      "    size : int or tuple of ints, optional\n",
      "        Output shape.  If the given shape is, e.g., ``(m, n, k)``, then\n",
      "        ``m * n * k`` samples are drawn.  If size is ``None`` (default),\n",
      "        a single value is returned if ``shape`` and ``scale`` are both scalars.\n",
      "        Otherwise, ``np.broadcast(shape, scale).size`` samples are drawn.\n",
      "    \n",
      "    Returns\n",
      "    -------\n",
      "    out : ndarray or scalar\n",
      "        Drawn samples from the parameterized gamma distribution.\n",
      "    \n",
      "    See Also\n",
      "    --------\n",
      "    scipy.stats.gamma : probability density function, distribution or\n",
      "        cumulative density function, etc.\n",
      "    random.Generator.gamma: which should be used for new code.\n",
      "    \n",
      "    Notes\n",
      "    -----\n",
      "    The probability density for the Gamma distribution is\n",
      "    \n",
      "    .. math:: p(x) = x^{k-1}\\frac{e^{-x/\\theta}}{\\theta^k\\Gamma(k)},\n",
      "    \n",
      "    where :math:`k` is the shape and :math:`\\theta` the scale,\n",
      "    and :math:`\\Gamma` is the Gamma function.\n",
      "    \n",
      "    The Gamma distribution is often used to model the times to failure of\n",
      "    electronic components, and arises naturally in processes for which the\n",
      "    waiting times between Poisson distributed events are relevant.\n",
      "    \n",
      "    References\n",
      "    ----------\n",
      "    .. [1] Weisstein, Eric W. \"Gamma Distribution.\" From MathWorld--A\n",
      "           Wolfram Web Resource.\n",
      "           http://mathworld.wolfram.com/GammaDistribution.html\n",
      "    .. [2] Wikipedia, \"Gamma distribution\",\n",
      "           https://en.wikipedia.org/wiki/Gamma_distribution\n",
      "    \n",
      "    Examples\n",
      "    --------\n",
      "    Draw samples from the distribution:\n",
      "    \n",
      "    >>> shape, scale = 2., 2.  # mean=4, std=2*sqrt(2)\n",
      "    >>> s = np.random.gamma(shape, scale, 1000)\n",
      "    \n",
      "    Display the histogram of the samples, along with\n",
      "    the probability density function:\n",
      "    \n",
      "    >>> import matplotlib.pyplot as plt\n",
      "    >>> import scipy.special as sps  # doctest: +SKIP\n",
      "    >>> count, bins, ignored = plt.hist(s, 50, density=True)\n",
      "    >>> y = bins**(shape-1)*(np.exp(-bins/scale) /  # doctest: +SKIP\n",
      "    ...                      (sps.gamma(shape)*scale**shape))\n",
      "    >>> plt.plot(bins, y, linewidth=2, color='r')  # doctest: +SKIP\n",
      "    >>> plt.show()\n",
      "\n"
     ]
    }
   ],
   "source": [
    "help(np.random.gamma)"
   ]
  },
  {
   "cell_type": "markdown",
   "metadata": {},
   "source": [
    "**Use the `np.random.gamma` function to simulate polarity zone**  \n",
    "\n",
    "`np.random.gamma( )`  has 2 specified parameters: `shape` (sometimes designated \"$\\alpha$\") and `scale` (sometimes designated \"$\\theta$\"), and an optional keyword argument `size` (if `size` is not specified, it returns a single trial). Each call to `np.random.gamma( )` returns a chron duration pulled from the gamma distribution.\n",
    "\n",
    "So to get random chron lengths use ```np.random.gamma(shape, scale=scale, size=size)``` where: \n",
    "\n",
    "- shape = 1.2 (the alpha we used before)\n",
    "- scale = average_polarity_zone_duration/1.2\n",
    "- size = number of polarity zones (so we get random simulated data that is the same length as our original data set)\n",
    "\n",
    "(4 points)"
   ]
  },
  {
   "cell_type": "code",
   "execution_count": 21,
   "metadata": {},
   "outputs": [],
   "source": [
    "gam_dis = np.random.gamma( , scale = , size = ) # fill in the three variables"
   ]
  },
  {
   "cell_type": "markdown",
   "metadata": {},
   "source": [
    "**Plot a histogram of the simulated data, the observed data and the theoretical distribution**\n",
    "\n",
    "They should look pretty similar to each other. Make sure to add labels and a legend.\n",
    "\n",
    "(3 point)"
   ]
  },
  {
   "cell_type": "code",
   "execution_count": 5,
   "metadata": {},
   "outputs": [],
   "source": [
    "\n",
    "plt.xlabel('Polarity zone duration (Myr)')\n",
    "plt.legend()"
   ]
  },
  {
   "cell_type": "markdown",
   "metadata": {},
   "source": [
    "### Will the field reverse soon?!\n",
    "But what we _really_ would like to know is how likely is it that a polarity reversal will happen soon. The current normal chron has been going on for 0.78 Myr. To find the probability that a reversal will happen in the next say 10 thousand years we need to find that probability of a chron that is longer than 0.78 Myr but shorter than 0.79 Myr (note, we already know the 'event' hasn't occured in the first 0.78 Myrs). \n",
    "$$P (0.78 \\le X \\le 0.79\\ |\\ X > 0.78) = \\frac{P(X \\le 0.79) - P(X \\le 0.78)}{P(X > 0.78)}$$\n",
    "\n",
    "From the equations above, remember that:\n",
    "\n",
    "$$ P(X \\le x) = 1 - \\frac{\\Gamma(h,x\\lambda) }{\\Gamma (h)}$$\n",
    "\n",
    "**Use the code below, and the equations given here to define a ```P_rev_soon``` variable.** Remember $\\theta=1/\\lambda$ and $\\theta = \\mu / \\alpha$, and we are assuming $ h = \\alpha$.\n",
    "\n",
    "(5 points)"
   ]
  },
  {
   "cell_type": "code",
   "execution_count": 6,
   "metadata": {},
   "outputs": [],
   "source": [
    "# first we need to use the upper incomplete gamma function from scipy.special (this is what is on the top of the equation above)\n",
    "from scipy.special import gammaincc\n",
    "\n",
    "# define our parameters again\n",
    "alpha = 1.2\n",
    "mu = average_polarity_zone_duration\n",
    "theta = \n",
    "\n",
    "# with this we can define the probability of a polarity reversal prior to 0.78 Myrs\n",
    "P_78 =  # gammainc requires the alpha (shape) and the x*lambda parameter\n",
    "\n",
    "# now do the same for 0.79 Myrs and calculate the P_rev_soon variable\n",
    "P_79 = \n",
    "\n",
    "# finally calculate the probability the reversal is after 0.78 Ma.\n",
    "P78 = \n",
    "\n",
    "P_rev_soon = (P_79-P_78)/P78\n",
    "P_rev_soon"
   ]
  },
  {
   "cell_type": "markdown",
   "metadata": {},
   "source": [
    "**Based on this probability, do you think the field is about to reverse?**\n",
    "\n",
    "(2 points)\n",
    "\n",
    "*write your answer here*"
   ]
  },
  {
   "cell_type": "code",
   "execution_count": null,
   "metadata": {},
   "outputs": [],
   "source": []
  }
 ],
 "metadata": {
  "kernelspec": {
   "display_name": "Python 3 (ipykernel)",
   "language": "python",
   "name": "python3"
  },
  "language_info": {
   "codemirror_mode": {
    "name": "ipython",
    "version": 3
   },
   "file_extension": ".py",
   "mimetype": "text/x-python",
   "name": "python",
   "nbconvert_exporter": "python",
   "pygments_lexer": "ipython3",
   "version": "3.11.0"
  }
 },
 "nbformat": 4,
 "nbformat_minor": 4
}

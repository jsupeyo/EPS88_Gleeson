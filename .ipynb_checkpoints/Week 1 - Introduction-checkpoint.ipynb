{
 "cells": [
  {
   "cell_type": "markdown",
   "id": "eb1f693b-0b97-4d92-b872-dd5647acecb6",
   "metadata": {},
   "source": [
    "# Week 1 - Python basics and data types!"
   ]
  },
  {
   "cell_type": "markdown",
   "id": "9dc3cbc1-d92a-4216-8add-c5a9161ade75",
   "metadata": {},
   "source": [
    "Welcome to PyEarth and the growing field of Data Science in Earth Science! \n",
    "This notebook represents your starting point to explore how computational tools and big data are transforming our understanding of the Earth and its systems. In this class we'll discuss several topics (listed below) and introduce several of the main data types used in Python programming.\n",
    "\n",
    "The tools of data science enable us to learn about the Earth through the approaches of:\n",
    "- Exploration\n",
    "  - Identifying patterns in data through visualization\n",
    "- Inference\n",
    "  - Using data to obtain reliable insights about the Earth through the application of statistics\n",
    "- Prediction\n",
    "  - Use analysis of data we can observe to make informed predictions of things we cannot observe using machine learning\n",
    "\n",
    "---\n",
    "\n",
    "## Why Python? 🐍\n",
    "Python is one of the most popular programming languages for scientific computing and data analysis. Here's why:\n",
    "- **Ease of Use**: Its simple syntax makes it beginner-friendly, yet powerful enough for advanced applications.\n",
    "- **Versatility**: Python excels in handling diverse tasks—from data cleaning and visualization to machine learning and geospatial analysis.\n",
    "- **Extensive Libraries**: Libraries like `numpy`, `pandas`, `matplotlib`, `scikit-learn`, and `xarray` are specifically designed to handle scientific and geospatial data efficiently.\n",
    "\n",
    "---\n",
    "\n",
    "## Open Access and Collaboration 🌐\n",
    "The Earth Sciences rely on collaborative, open-access research to address global challenges such as climate change, natural disasters, and resource management. Python aligns perfectly with this philosophy because:\n",
    "- It is **free and open-source**, accessible to anyone with a computer.\n",
    "- The Python community actively contributes to open-access tools, ensuring continuous innovation and knowledge sharing.\n",
    "- It integrates seamlessly with open datasets, fostering transparency and reproducibility in research.\n",
    "\n",
    "---\n",
    "\n",
    "## The Era of Big Data 📊\n",
    "Earth Sciences are experiencing a data revolution:\n",
    "- Satellite missions provide **terabytes of data** daily, capturing everything from atmospheric composition to surface deformation.\n",
    "- Climate models, seismic networks, and remote sensing technologies generate massive datasets requiring advanced computational techniques to process and analyze.\n",
    "\n",
    "Every year, Data Science provides new insights in the Earth Sciences, whether that's new methods for detecting critical mineral deposits (https://undark.org/2024/11/13/the-search-for-critical-minerals-is-going-high-tech/), understanding climate change patterns (https://science.nasa.gov/earth/explore/the-ocean-and-climate-change/), forecasting natural disasters (https://www.frontiersin.org/journals/environmental-science/articles/10.3389/fenvs.2023.1194918/full), or analyzing satellite imagery to monitor deforestation and urban growth (https://www.iceye.com/blog/deforestation-and-forest-degradation-monitoring-with-sar-satellite-imagery). The integration of advanced data analysis techniques with large-scale Earth Science datasets is revolutionizing the field, enabling more precise predictions and better-informed decisions.\n",
    "\n",
    "Using Python, you'll learn to harness these datasets, uncover patterns, and draw meaningful insights that contribute to solving critical environmental challenges.\n",
    "\n",
    "---\n",
    "\n",
    "\n"
   ]
  },
  {
   "cell_type": "markdown",
   "id": "e6390e71-9c13-47e1-866a-203ab19a9c68",
   "metadata": {},
   "source": [
    "# Understanding data types in Python 🐍\n",
    "\n",
    "In Python, understanding data types is fundamental to writing effective and efficient code. Data types define the kind of data that a variable can hold, influencing how you can use and manipulate the data. Let’s explore the key data types you’ll encounter.\n",
    "\n",
    "---\n",
    "\n",
    "## Core Data Types\n",
    "\n",
    "### 1. **Numeric Types**\n",
    "- **Integers (`int`)**: Whole numbers, e.g., `42`, `-7`.\n",
    "- **Floats (`float`)**: Decimal numbers, e.g., `3.14`, `-0.001`.\n",
    "- **Complex Numbers (`complex`)**: Numbers with a real and imaginary part, e.g., `3 + 4j`.\n",
    "\n",
    "### 2. **Text Type**\n",
    "- **Strings (`str`)**: Text data, enclosed in single or double quotes, e.g., `'Earth'`, `\"Science\"`.\n",
    "\n",
    "### 3. **Sequence Types**\n",
    "- **Lists (`list`)**: Ordered, mutable collections, e.g., `[1, 2, 3, \"Earth\"]`.\n",
    "- **Tuples (`tuple`)**: Ordered, immutable collections, e.g., `(1, 2, 3)`.\n",
    "- **Ranges (`range`)**: Represents a sequence of numbers, often used in loops, e.g., `range(5)` (0 to 4).\n",
    "\n",
    "### 4. **Mapping Type**\n",
    "- **Dictionaries (`dict`)**: Unordered, mutable collections of key-value pairs, e.g., `{'key': 'value', 'year': 2024}`.\n",
    "\n",
    "### 5. **Set Types**\n",
    "- **Sets (`set`)**: Unordered collections of unique elements, e.g., `{1, 2, 3}`.\n",
    "- **Frozen Sets (`frozenset`)**: Immutable sets, e.g., `frozenset([1, 2, 3])`.\n",
    "\n",
    "### 6. **Boolean Type**\n",
    "- **Booleans (`bool`)**: Logical values, either `True` or `False`.\n",
    "\n",
    "### 7. **None Type**\n",
    "- **NoneType (`None`)**: Represents the absence of a value, e.g., `None`.\n",
    "\n",
    "---\n",
    "\n",
    "## Why Are Data Types Important? 🧐\n",
    "1. **Efficiency**: Different types allow Python to optimize memory usage and operations.\n",
    "2. **Validation**: Ensures that data is used correctly in your code, reducing bugs.\n",
    "3. **Flexibility**: Enables working with diverse data formats, from numbers and text to complex structures like lists and dictionaries.\n",
    "\n",
    "---\n",
    "\n",
    "## Real-World Applications 🌏\n",
    "In Earth Sciences, you’ll encounter various data types:\n",
    "- Numbers for temperature, precipitation, or seismic measurements.\n",
    "- Strings for metadata like locations or names of data files.\n",
    "- Lists and dictionaries to organize and process large datasets.\n",
    "\n",
    "Understanding and correctly applying these data types is crucial for writing code that processes and analyzes Earth Science data effectively. Let’s explore them in more detail in the cells ahead!\n"
   ]
  },
  {
   "cell_type": "markdown",
   "id": "98de46a7-b723-40a6-8cde-d675171731c4",
   "metadata": {},
   "source": [
    "# Exercise 1\n",
    "\n",
    "In the following cells we'll create some new (Earth-related) variables. Think about what type of data is best for each variable.\n",
    "\n",
    "- Name of our planet\n",
    "- The average surface temperature in Celsius\n",
    "- Whether Earth has a Moon (True/False)\n",
    "- The planet's radius in kilometers\n",
    "- The Moon's radius in kilometers\n",
    "- A list of the planets in the solar system.\n",
    "\n",
    "**1a - Create the first two variables and use the code provided to print these variables. Bonus question, what data type did you use for Surface Temperature (use type(SurfaceT))?** \n",
    "\n",
    "(3 points)\n"
   ]
  },
  {
   "cell_type": "code",
   "execution_count": 8,
   "id": "60f2a0df-36f8-46b9-b107-4bf03b719115",
   "metadata": {},
   "outputs": [
    {
     "name": "stdout",
     "output_type": "stream",
     "text": [
      "Our planet is called Earth\n",
      "Our planet's average surface temperature is 25.0 $^o$C\n"
     ]
    }
   ],
   "source": [
    "Name = \"Earth\"\n",
    "print(f\"Our planet is called {Name}\")\n",
    "\n",
    "SurfaceT = 25.0  # degrees C\n",
    "print(f\"Our planet's average surface temperature is {SurfaceT:.1f} $^o$C\")\n"
   ]
  },
  {
   "cell_type": "markdown",
   "id": "25c7c0cd-65f7-4105-af3f-928b8ec4de1c",
   "metadata": {},
   "source": [
    "**1b - If statements & basic Arithmetric Operations**\n",
    "\n",
    "An if statement allows your program to make decisions and execute specific blocks of code based on certain conditions. It's a fundamental tool for controlling the flow of a program.\n",
    "\n",
    "Using the cell below, create two more variables. One should indicate whether (or not) the Earth has a moon (use a boolean), the second should contain the Earth's radius. **Create an if statement so that if the Earth has a Moon the code calculates the relative volume of the Moon and Earth (you'll have to make a new variable for the radius of the Moon first) and prints the result (i.e., \"the volume of the Moon is XX% the volume of the Earth\"). If the Earth doesn't have a moon the code should print a message stating the \"the Earth does not have a Moon\"**. Remember the volume of a sphere is $(4/3)*π*r^3$. Assume π = 3.14.\n",
    "\n",
    "(5 points)"
   ]
  },
  {
   "cell_type": "code",
   "execution_count": 24,
   "id": "4bc34505-05df-4d7a-8030-856cface1828",
   "metadata": {},
   "outputs": [],
   "source": [
    "Moon =  True # True/False\n",
    "r_Earth = 6378 # km\n",
    "if Moon is True:\n",
    "    ## write your code in here. Make sure its indented correctly\n",
    "    v_Earth = (4/3)*3.14*r_Earth**3\n",
    "\n",
    "    r_Moon = 1740 # km\n",
    "    v_Moon = (4/3)*3.14*r_Moon\n",
    "\n",
    "    volume_perc=100*(v_Moon/r_Moon)\n",
    "else:\n",
    "    ## write a print statement for Moon is False.\n",
    "    \n",
    "    print(\"The Earth does not have a moon\")\n",
    "    "
   ]
  },
  {
   "cell_type": "markdown",
   "id": "5bbb16e6-1669-4ade-922d-289bf87b5d5f",
   "metadata": {},
   "source": [
    "**1c - Lists, loops, dictionaries, and functions**\n",
    "\n",
    "In the cell below create a list of the planets in the solar system. Use a for loop to print each planet's name and it's position from the Sun. Example output: \"Mercury is the 1st planet from the Sun\".\n",
    "\n",
    "(5 points)"
   ]
  },
  {
   "cell_type": "code",
   "execution_count": 54,
   "id": "29a0d294-d3f6-47c5-b664-c3140664535e",
   "metadata": {},
   "outputs": [
    {
     "name": "stdout",
     "output_type": "stream",
     "text": [
      "Mercury\n",
      "Venus\n",
      "Earth\n",
      "Mars\n",
      "Jupiter\n",
      "Saturn\n",
      "Neptune\n",
      "Uranus\n",
      "0\n",
      "1\n",
      "2\n",
      "3\n",
      "4\n",
      "5\n",
      "6\n",
      "7\n",
      "0\n",
      "Mercury\n",
      "1\n",
      "Venus\n",
      "2\n",
      "Earth\n",
      "3\n",
      "Mars\n",
      "4\n",
      "Jupiter\n",
      "5\n",
      "Saturn\n",
      "6\n",
      "Neptune\n",
      "7\n",
      "Uranus\n",
      "Mercury is the 1st planet from the Sun\n",
      "Venus is the 2nd planet from the Sun\n",
      "Earth is the 3rd planet from the Sun\n",
      "Mars is the 4th planet from the Sun\n",
      "Jupiter is the 5th planet from the Sun\n",
      "Saturn is the 6th planet from the Sun\n",
      "Neptune is the 7th planet from the Sun\n",
      "Uranus is the 8th planet from the Sun\n"
     ]
    }
   ],
   "source": [
    "Planets = ['Mercury', 'Venus', 'Earth', 'Mars', 'Jupiter', 'Saturn', 'Neptune', 'Uranus'] # create a list\n",
    "\n",
    "# Write your for loop\n",
    "for p in Planets:\n",
    "    print (p)\n",
    "for i in range(len(Planets)):\n",
    "    print (i)\n",
    "for i, p in enumerate (Planets):\n",
    "    print (i)\n",
    "    print (p)\n",
    "for i, p in enumerate (Planets):\n",
    "    if i==0:\n",
    "        print(f\"{p} is the {i+1}st planet from the Sun\")\n",
    "    elif i==1:\n",
    "        print(f\"{p} is the {i+1}nd planet from the Sun\")\n",
    "    elif i==2:\n",
    "        print(f\"{p} is the {i+1}rd planet from the Sun\")\n",
    "    else:\n",
    "        print(f\"{p} is the {i+1}th planet from the Sun\")"
   ]
  },
  {
   "cell_type": "markdown",
   "id": "6ad59dff-4f22-4325-b29f-fb6acc898754",
   "metadata": {},
   "source": [
    "A dictionary in Python is a collection of key-value pairs. It's used to store data values where each key maps to a corresponding value. This can be incredibly useful for numerous operations as the value you're interested in is directly tied to a 'key'. In the cell below create a dictionary containing the same list of planets as the 'keys', with their radii as the 'values':\n",
    "\n",
    "(2 points)"
   ]
  },
  {
   "cell_type": "code",
   "execution_count": 64,
   "id": "a2c80ac7-3af3-481a-aec7-5411401129ea",
   "metadata": {},
   "outputs": [
    {
     "data": {
      "text/plain": [
       "{'Mercury': 2439.7,\n",
       " 'Venus': 6051.8,\n",
       " 'Earth': 6371.0,\n",
       " 'Mars': 3389.5,\n",
       " 'Jupiter': 69911.0,\n",
       " 'Saturn': 58232.0,\n",
       " 'Uranus': 25362.0,\n",
       " 'Nepture': 24622.0}"
      ]
     },
     "execution_count": 64,
     "metadata": {},
     "output_type": "execute_result"
    }
   ],
   "source": [
    "Planet_radii = {'Mercury': 2439.7, # km\n",
    "                'Venus': 6051.8, # km\n",
    "                'Earth': 6371.0, # km\n",
    "                'Mars': 3389.5, # km\n",
    "                'Jupiter': 69911.0, # km\n",
    "                'Saturn': 58232.0, # km\n",
    "                'Uranus': 25362.0, # km\n",
    "                'Nepture': 24622.0} # km\n",
    "Planet_radii"
   ]
  },
  {
   "cell_type": "markdown",
   "id": "f5c4724a-8aec-44d7-9fb9-ad02113702b1",
   "metadata": {},
   "source": [
    "Write a function that performs the same calculation as you did above for the Moon (i.e, the volume of a planet relative to the volume of the Earth expressed as a percentage). Then use a for loop to print the volume of each planet relative to the volume of the Earth:\n",
    "\n",
    "(10 points)"
   ]
  },
  {
   "cell_type": "code",
   "execution_count": 90,
   "id": "91319645-0b90-44dc-9188-64e3177b936e",
   "metadata": {},
   "outputs": [
    {
     "name": "stdout",
     "output_type": "stream",
     "text": [
      "The volume of Mercury is 5.62% the volume of the Earth\n",
      "The volume of Venus is 85.71% the volume of the Earth\n",
      "The volume of Mars is 15.06% the volume of the Earth\n",
      "The volume of Jupiter is 132133.74% the volume of the Earth\n",
      "The volume of Saturn is 76359.36% the volume of the Earth\n",
      "The volume of Uranus is 6308.52% the volume of the Earth\n",
      "The volume of Nepture is 5772.28% the volume of the Earth\n"
     ]
    }
   ],
   "source": [
    "def volume_percent(r_Earth, r_planet):\n",
    "    ## write your function in here\n",
    "    v_Earth = (4/3)*3.14*r_Earth**3\n",
    "    v_Planet = (4/3)*3.14*r_planet**3\n",
    "\n",
    "    volume_perc = 100*v_Planet/v_Earth\n",
    "    return volume_perc\n",
    "\n",
    "# Create a for loop that calls your function and prints the volume of each planet (relative to Earth)\n",
    "for key, value in Planet_radii.items():\n",
    "    if key != \"Earth\":\n",
    "        volume_perc = volume_percent(Planet_radii['Earth'], value)\n",
    "        print(f\"The volume of {key} is {volume_perc:.2f}% the volume of the Earth\")"
   ]
  },
  {
   "cell_type": "markdown",
   "id": "293ba51b-fb79-4711-963c-e0590c35a6e7",
   "metadata": {},
   "source": [
    "# Exercise 2 - Sea-level rise and climate change\n",
    "\n",
    "Climate change is real, it's happening, and we're not doing enough to stop it!\n",
    "\n",
    "![Global average temperature anomalies](https://climateknowledgeportal.worldbank.org/sites/default/files/inline-images/Screenshot%202023-03-01%20at%203.12.51%20PM.png)\n",
    "Image from https://climateknowledgeportal.worldbank.org/overview\n",
    "\n",
    "The climate has, of course, changed in the geological past, but not at the rate we're seeing at the modern day! For the last ~34 Million Years there has always been some ice on the continent of Antarctica on the south pole. Melting of ice sheets on Antarctica (and Greenland) is causing sea-levels to rise, putting many island nations at risk of permanently loosing their land, homes, and way of life (https://only.one/read/sinking-islands-rising-costs). Sea levels are predicted to rise by ~1m by 2100, but what sea level rise might we expect if ALL the ice on Antarctica suddenly melted (this would require global average temperatures to rise > 10$^o$C)?\n",
    "\n",
    "**In the cell below, use Python to calculate the amount of sea level rise expected in this scenario (complete melting of Antarctica). At the end of the code/calculation print a message stating whether or not McCone Hall would be submerged in this scenario!**\n",
    "\n",
    "**Rules**\n",
    "- Assume pi is 3.14\n",
    "- You are NOT allowed to google anything!!! I want to see your problem solving skills not the ability to google an answer, I'm interested in whether the answer is 1m, 10m, 50m, or 100m.\n",
    "- Assume a radius for Antarctica of 2000 km\n",
    "- Assume an ice sheet thickness on Antarctica of 2 km\n",
    "- You shouldn't need any other information!\n",
    "\n",
    "(25 points)"
   ]
  },
  {
   "cell_type": "code",
   "execution_count": 114,
   "id": "08fce101-1b8e-4706-a3b2-e0612edef7e6",
   "metadata": {},
   "outputs": [
    {
     "name": "stdout",
     "output_type": "stream",
     "text": [
      "The volume of Antarctica is 25120000 km\n",
      "The volume of earth's oceans is 760361238520 cubic metres\n"
     ]
    }
   ],
   "source": [
    "r_Antarctica = 2000 ## Radius of Antarctica\n",
    "t_Antarctica = 2 ## Thickness of Antarctica\n",
    "#Volume = cross-sectional area * depth\n",
    "vol_Antarctica = 3.14*2000**2*2\n",
    "print(f\"The volume of Antarctica is {vol_Antarctica:.0f} km\")\n",
    "\n",
    "r_Earth = 6378 ## Radius of the Earth\n",
    "v_Earth = (4/3)*3.14*r_Earth**3\n",
    "v_Earth_Oceans = 0.7 * v_Earth\n",
    "print(f\"The volume of earth's oceans is {v_Earth_Oceans:.0f} cubic metres\")\n",
    "\n",
    "\n",
    "\n"
   ]
  },
  {
   "cell_type": "code",
   "execution_count": null,
   "id": "cfd6b90b-15f3-4bf6-be80-db025866fe6b",
   "metadata": {},
   "outputs": [],
   "source": []
  }
 ],
 "metadata": {
  "kernelspec": {
   "display_name": "Python [conda env:base] *",
   "language": "python",
   "name": "conda-base-py"
  },
  "language_info": {
   "codemirror_mode": {
    "name": "ipython",
    "version": 3
   },
   "file_extension": ".py",
   "mimetype": "text/x-python",
   "name": "python",
   "nbconvert_exporter": "python",
   "pygments_lexer": "ipython3",
   "version": "3.11.5"
  }
 },
 "nbformat": 4,
 "nbformat_minor": 5
}
